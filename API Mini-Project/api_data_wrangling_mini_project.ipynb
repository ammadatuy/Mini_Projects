{
 "cells": [
  {
   "cell_type": "markdown",
   "metadata": {},
   "source": [
    "This exercise will require you to pull some data from the Qunadl API. Qaundl is currently the most widely used aggregator of financial market data."
   ]
  },
  {
   "cell_type": "markdown",
   "metadata": {},
   "source": [
    "As a first step, you will need to register a free account on the http://www.quandl.com website."
   ]
  },
  {
   "cell_type": "markdown",
   "metadata": {},
   "source": [
    "After you register, you will be provided with a unique API key, that you should store:"
   ]
  },
  {
   "cell_type": "code",
   "execution_count": 259,
   "metadata": {},
   "outputs": [],
   "source": [
    "# Store the API key as a string - according to PEP8, constants are always named in all upper case\n",
    "API_KEY = '**********'"
   ]
  },
  {
   "cell_type": "markdown",
   "metadata": {},
   "source": [
    "Qaundl has a large number of data sources, but, unfortunately, most of them require a Premium subscription. Still, there are also a good number of free datasets."
   ]
  },
  {
   "cell_type": "markdown",
   "metadata": {},
   "source": [
    "For this mini project, we will focus on equities data from the Frankfurt Stock Exhange (FSE), which is available for free. We'll try and analyze the stock prices of a company called Carl Zeiss Meditec, which manufactures tools for eye examinations, as well as medical lasers for laser eye surgery: https://www.zeiss.com/meditec/int/home.html. The company is listed under the stock ticker AFX_X."
   ]
  },
  {
   "cell_type": "markdown",
   "metadata": {},
   "source": [
    "You can find the detailed Quandl API instructions here: https://docs.quandl.com/docs/time-series"
   ]
  },
  {
   "cell_type": "markdown",
   "metadata": {},
   "source": [
    "While there is a dedicated Python package for connecting to the Quandl API, we would prefer that you use the *requests* package, which can be easily downloaded using *pip* or *conda*. You can find the documentation for the package here: http://docs.python-requests.org/en/master/ "
   ]
  },
  {
   "cell_type": "markdown",
   "metadata": {},
   "source": [
    "Finally, apart from the *requests* package, you are encouraged to not use any third party Python packages, such as *pandas*, and instead focus on what's available in the Python Standard Library (the *collections* module might come in handy: https://pymotw.com/3/collections/ ).\n",
    "Also, since you won't have access to DataFrames, you are encouraged to us Python's native data structures - preferably dictionaries, though some questions can also be answered using lists.\n",
    "You can read more on these data structures here: https://docs.python.org/3/tutorial/datastructures.html"
   ]
  },
  {
   "cell_type": "markdown",
   "metadata": {},
   "source": [
    "Keep in mind that the JSON responses you will be getting from the API map almost one-to-one to Python's dictionaries. Unfortunately, they can be very nested, so make sure you read up on indexing dictionaries in the documentation provided above."
   ]
  },
  {
   "cell_type": "code",
   "execution_count": 260,
   "metadata": {},
   "outputs": [],
   "source": [
    "# First, import the relevant modules\n",
    "import requests \n",
    "import json"
   ]
  },
  {
   "cell_type": "code",
   "execution_count": 261,
   "metadata": {},
   "outputs": [
    {
     "name": "stdout",
     "output_type": "stream",
     "text": [
      "{'dataset': {'id': 10095370, 'dataset_code': 'AFX_X', 'database_code': 'FSE', 'name': 'Carl Zeiss Meditec (AFX_X)', 'description': 'Stock Prices for Carl Zeiss Meditec (2019-10-25) from the Frankfurt Stock Exchange.<br><br>Trading System: Xetra<br><br>ISIN: DE0005313704', 'refreshed_at': '2019-11-08T22:19:01.704Z', 'newest_available_date': '2019-11-08', 'oldest_available_date': '2000-06-07', 'column_names': ['Date', 'Open', 'High', 'Low', 'Close', 'Change', 'Traded Volume', 'Turnover', 'Last Price of the Day', 'Daily Traded Units', 'Daily Turnover'], 'frequency': 'daily', 'type': 'Time Series', 'premium': False, 'limit': None, 'transform': None, 'column_index': None, 'start_date': '2019-11-07', 'end_date': '2019-11-07', 'data': [['2019-11-07', 103.7, 104.1, 101.2, 102.2, None, 145112.0, 14855882.0, None, None, None]], 'collapse': None, 'order': None, 'database_id': 6129}}\n"
     ]
    }
   ],
   "source": [
    "# Now, call the Quandl API and pull out a small sample of the data (only one day) to get a glimpse\n",
    "# into the JSON structure that will be returned\n",
    "# Make a connection pool.\n",
    "URL = \"https://www.quandl.com/api/v3/datasets/FSE/AFX_X?start_date=2019-11-07&end_date=2019-11-07&api_key=\"\n",
    "r = requests.get(URL + API_KEY)\n",
    "dataset = r.json()\n",
    "print(dataset)"
   ]
  },
  {
   "cell_type": "code",
   "execution_count": 262,
   "metadata": {},
   "outputs": [
    {
     "name": "stdout",
     "output_type": "stream",
     "text": [
      "['Date', 'Open', 'High', 'Low', 'Close', 'Change', 'Traded Volume', 'Turnover', 'Last Price of the Day', 'Daily Traded Units', 'Daily Turnover']\n"
     ]
    }
   ],
   "source": [
    "# Inspect the JSON structure of the object you created, and take note of how nested it is,\n",
    "# as well as the overall structure\n",
    "\n",
    "# Get all of the columns of the dataset\n",
    "data_cols = r.json()['dataset']['column_names']\n",
    "print(data_cols)"
   ]
  },
  {
   "cell_type": "code",
   "execution_count": 263,
   "metadata": {},
   "outputs": [
    {
     "name": "stdout",
     "output_type": "stream",
     "text": [
      "[['2019-11-07', 103.7, 104.1, 101.2, 102.2, None, 145112.0, 14855882.0, None, None, None]]\n"
     ]
    }
   ],
   "source": [
    "data2 = r.json()['dataset']['data']\n",
    "print(data2)"
   ]
  },
  {
   "cell_type": "markdown",
   "metadata": {},
   "source": [
    "These are your tasks for this mini project:\n",
    "\n",
    "1. Collect data from the Franfurt Stock Exchange, for the ticker AFX_X, for the whole year 2017 (keep in mind that the date format is YYYY-MM-DD).\n",
    "2. Convert the returned JSON object into a Python dictionary.\n",
    "3. Calculate what the highest and lowest opening prices were for the stock in this period.\n",
    "4. What was the largest change in any one day (based on High and Low price)?\n",
    "5. What was the largest change between any two days (based on Closing Price)?\n",
    "6. What was the average daily trading volume during this year?\n",
    "7. (Optional) What was the median trading volume during this year. (Note: you may need to implement your own function for calculating the median.)"
   ]
  },
  {
   "cell_type": "markdown",
   "metadata": {},
   "source": [
    "<b>1. Collect data from the Franfurt Stock Exchange, for the ticker AFX_X, for the whole year 2017 (keep in mind that the date format is YYYY-MM-DD).</b>"
   ]
  },
  {
   "cell_type": "code",
   "execution_count": 264,
   "metadata": {},
   "outputs": [],
   "source": [
    "# Grab dataset from FSE for AFX_X for whole of 2017\n",
    "URL = \"https://www.quandl.com/api/v3/datasets/FSE/AFX_X?start_date=2017-01-01&end_date=2017-12-31&api_key=\"\n",
    "r = requests.get(URL + API_KEY)"
   ]
  },
  {
   "cell_type": "markdown",
   "metadata": {},
   "source": [
    "<b>2. Convert the returned JSON object into a Python dictionary.</b>"
   ]
  },
  {
   "cell_type": "code",
   "execution_count": 265,
   "metadata": {},
   "outputs": [
    {
     "data": {
      "text/plain": [
       "dict"
      ]
     },
     "execution_count": 265,
     "metadata": {},
     "output_type": "execute_result"
    }
   ],
   "source": [
    "# Convert the JSON object into a Python dictionary\n",
    "data_dict = r.json()\n",
    "\n",
    "# Check the type and ensure it's a dictionary\n",
    "type(data_dict)"
   ]
  },
  {
   "cell_type": "markdown",
   "metadata": {},
   "source": [
    "<b>3. Calculate what the highest and lowest opening prices were for the stock in this period.</b>"
   ]
  },
  {
   "cell_type": "code",
   "execution_count": 266,
   "metadata": {},
   "outputs": [
    {
     "name": "stdout",
     "output_type": "stream",
     "text": [
      "The highest opening price was $53.11.\n",
      "The lowest opening price was $34.00.\n"
     ]
    }
   ],
   "source": [
    "# Convert the JSON object into a Python list of lists\n",
    "data_list = r.json()['dataset']['data']\n",
    "type(data_list)\n",
    "\n",
    "# Create an empty list where all opening prices will be stored\n",
    "all_opening_prices = []\n",
    "\n",
    "# Using list comprehension, append only opening prices to all_opening_prices list\n",
    "[all_opening_prices.append(row[1]) for row in data_list if row[1] is not None]\n",
    "    \n",
    "# Get the highest and lowerst opening prices from the all_opening_prices list\n",
    "print('The highest opening price was $' + str(\"{:.2f}\".format(max(all_opening_prices))) + '.')\n",
    "print('The lowest opening price was $' + str(\"{:.2f}\".format(min(all_opening_prices))) + '.')"
   ]
  },
  {
   "cell_type": "markdown",
   "metadata": {},
   "source": [
    "<b>4. What was the largest change in any one day (based on High and Low price)?</b>"
   ]
  },
  {
   "cell_type": "code",
   "execution_count": 267,
   "metadata": {
    "scrolled": true
   },
   "outputs": [
    {
     "name": "stdout",
     "output_type": "stream",
     "text": [
      "The largest price change was $2.81.\n"
     ]
    }
   ],
   "source": [
    "# Create an empty list for storing price changes in any one day based on high and low\n",
    "largest_price_changes = []\n",
    "\n",
    "# Loop through data_list, append only price changes 'high - low' to all_opening_prices list\n",
    "for row in data_list:\n",
    "    if None not in (row[2], row[3]):\n",
    "        largest_price_changes.append(row[2] - row[3])\n",
    "        \n",
    "# Get the largest price change from the largest_price_change list\n",
    "print('The largest price change was $' + str(\"{:.2f}\".format(max(largest_price_changes))) + '.')"
   ]
  },
  {
   "cell_type": "markdown",
   "metadata": {},
   "source": [
    "<b>5. What was the largest change between any two days (based on Closing Price)?</b>"
   ]
  },
  {
   "cell_type": "code",
   "execution_count": 268,
   "metadata": {},
   "outputs": [
    {
     "name": "stdout",
     "output_type": "stream",
     "text": [
      "The largest change between two days was $3.15.\n"
     ]
    }
   ],
   "source": [
    "# Create an empty list for storing daily closing prices between any 2 days\n",
    "closing_prices = []\n",
    "\n",
    "# Using list comprehension, append only closing prices between any 2 days to closing_prices list \n",
    "[closing_prices.append(row[4]) for row in data_list if row[4] is not None]\n",
    "\n",
    "# Create an empty list for change between 2 days \n",
    "change_two_days = []\n",
    "\n",
    "# Loop through indexed closing_prices list, if the current index is before the last 2 indices  \n",
    "# of the list length, append the absolute difference between the current value and the value \n",
    "# that is two indices ahead of the current\n",
    "for i, val in enumerate(closing_prices): \n",
    "    if i < (len(closing_prices)-2):\n",
    "        change_two_days.append(abs(val - closing_prices[i+2]))\n",
    "\n",
    "# Get and print the largest change between any two days\n",
    "print('The largest change between two days was $' \n",
    "      + str(\"{:.2f}\".format(max(change_two_days))) + '.')"
   ]
  },
  {
   "cell_type": "markdown",
   "metadata": {},
   "source": [
    "<b>6. What was the average daily trading volume during this year?</b>"
   ]
  },
  {
   "cell_type": "code",
   "execution_count": 269,
   "metadata": {},
   "outputs": [
    {
     "name": "stdout",
     "output_type": "stream",
     "text": [
      "The average trading volume was 89124.0.\n"
     ]
    }
   ],
   "source": [
    "# Create an empty list to store daily trading volume\n",
    "daily_trading_volumes = []\n",
    "\n",
    "# Using list comprehension, append only the daily trading volume to the list   \n",
    "[daily_trading_volumes.append(row[6]) for row in data_list if row[6] is not None]\n",
    "        \n",
    "# Calculate and print the average daily trading volume\n",
    "print('The average trading volume was ' \n",
    "      + str(round(sum(daily_trading_volumes) / len(daily_trading_volumes), 0)) + '.')"
   ]
  },
  {
   "cell_type": "markdown",
   "metadata": {},
   "source": [
    "<b>7.\n",
    "    (Optional) What was the median trading volume during this year. (Note: you may need to implement your own function for calculating the median.)</b>"
   ]
  },
  {
   "cell_type": "code",
   "execution_count": 270,
   "metadata": {
    "scrolled": true
   },
   "outputs": [
    {
     "name": "stdout",
     "output_type": "stream",
     "text": [
      "The median trading volume was 76286.0.\n"
     ]
    }
   ],
   "source": [
    "# Create a function to return the median of the daily traded volume\n",
    "# passing a list of numeric values\n",
    "def calculate_median(daily_trading_volume):\n",
    "    sorted_volume = sorted(daily_trading_volume)\n",
    "    length = len(daily_trading_volume)\n",
    "    \n",
    "    # Determine how to caluclate the median based on length of the list \n",
    "    if length < 1:\n",
    "        return None\n",
    "    if length % 2 == 0.0:\n",
    "        return (sorted_volume[int((length-1)/2)] + sorted_volume[int((length+1)/2)]) / 2\n",
    "    else:\n",
    "        return sorted_volume[int((length-1)/2)]\n",
    "    \n",
    "# Calculate and print the median trading volume by calling the calculate_median function\n",
    "print('The median trading volume was ' \n",
    "      + str(calculate_median(daily_trading_volume)) + '.')"
   ]
  }
 ],
 "metadata": {
  "kernelspec": {
   "display_name": "Python 3",
   "language": "python",
   "name": "python3"
  },
  "language_info": {
   "codemirror_mode": {
    "name": "ipython",
    "version": 3
   },
   "file_extension": ".py",
   "mimetype": "text/x-python",
   "name": "python",
   "nbconvert_exporter": "python",
   "pygments_lexer": "ipython3",
   "version": "3.7.3"
  }
 },
 "nbformat": 4,
 "nbformat_minor": 2
}
